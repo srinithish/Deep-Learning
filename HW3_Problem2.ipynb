{
  "nbformat": 4,
  "nbformat_minor": 0,
  "metadata": {
    "colab": {
      "name": "HW3_Problem2.ipynb",
      "version": "0.3.2",
      "provenance": [],
      "collapsed_sections": [],
      "include_colab_link": true
    },
    "kernelspec": {
      "name": "python3",
      "display_name": "Python 3"
    },
    "accelerator": "GPU"
  },
  "cells": [
    {
      "cell_type": "markdown",
      "metadata": {
        "id": "view-in-github",
        "colab_type": "text"
      },
      "source": [
        "<a href=\"https://colab.research.google.com/github/srinithish/Deep-Learning/blob/master/HW3_Problem2.ipynb\" target=\"_parent\"><img src=\"https://colab.research.google.com/assets/colab-badge.svg\" alt=\"Open In Colab\"/></a>"
      ]
    },
    {
      "metadata": {
        "id": "VBMKAHLckmUo",
        "colab_type": "code",
        "colab": {}
      },
      "cell_type": "code",
      "source": [
        "import tensorflow as tf\n",
        "import numpy as np\n",
        "import sklearn\n",
        "import pandas as pd\n",
        "from sklearn.preprocessing import StandardScaler\n",
        "import matplotlib.pyplot as plt\n",
        "from sklearn.manifold import TSNE\n",
        "import random\n",
        "import matplotlib.cm as cm\n",
        "import math\n",
        "import seaborn as sns\n",
        "import glob\n",
        "import warnings\n",
        "warnings.filterwarnings('ignore')"
      ],
      "execution_count": 0,
      "outputs": []
    },
    {
      "metadata": {
        "id": "QwZEzX4ZTOe6",
        "colab_type": "code",
        "outputId": "96b12e65-7341-4683-ee8e-5cfb0927d6c8",
        "colab": {
          "base_uri": "https://localhost:8080/",
          "height": 126
        }
      },
      "cell_type": "code",
      "source": [
        "### load all files \n",
        "\n",
        "\n",
        "from google.colab import drive\n",
        "drive.mount('/content/Drive',force_remount =  True)"
      ],
      "execution_count": 0,
      "outputs": [
        {
          "output_type": "stream",
          "text": [
            "Go to this URL in a browser: https://accounts.google.com/o/oauth2/auth?client_id=947318989803-6bn6qk8qdgf4n4g3pfee6491hc0brc4i.apps.googleusercontent.com&redirect_uri=urn%3Aietf%3Awg%3Aoauth%3A2.0%3Aoob&scope=email%20https%3A%2F%2Fwww.googleapis.com%2Fauth%2Fdocs.test%20https%3A%2F%2Fwww.googleapis.com%2Fauth%2Fdrive%20https%3A%2F%2Fwww.googleapis.com%2Fauth%2Fdrive.photos.readonly%20https%3A%2F%2Fwww.googleapis.com%2Fauth%2Fpeopleapi.readonly&response_type=code\n",
            "\n",
            "Enter your authorization code:\n",
            "··········\n",
            "Mounted at /content/Drive\n"
          ],
          "name": "stdout"
        }
      ]
    },
    {
      "metadata": {
        "id": "-pbPELohqgHL",
        "colab_type": "code",
        "colab": {}
      },
      "cell_type": "code",
      "source": [
        "###load files\n",
        "# !pip install librosa # in colab, you'll need to install this\n",
        "import librosa\n",
        "import io\n",
        "\n",
        "\n",
        "\"\"\"\n",
        "Change directory path here and leave it blank if its in the same directory as the \n",
        "Notebook\n",
        "\"\"\"\n",
        "dirpath  = \"Drive/My Drive/Deeplearning Assignment/timit-homework\"\n",
        "# dirpath  = \"\"\n",
        "\n",
        "\n",
        "### Loading the files\n",
        "\n",
        "def gen_STFTnMagnitude(filepath):\n",
        "  \"\"\"\n",
        "  returns \n",
        "  time domain \n",
        "  complex spectrogram \n",
        "  magnitude spectrgoram\n",
        "  \"\"\"\n",
        "  RawAmpVsTime, sr=librosa.load(filepath, sr=None)\n",
        "  spectrogram = librosa.stft(RawAmpVsTime, n_fft=1024, hop_length=512)\n",
        "  spectrogram = np.transpose(spectrogram)\n",
        "  spectrogram_Mag = np.abs(spectrogram)\n",
        "  \n",
        "  return RawAmpVsTime,spectrogram,spectrogram_Mag\n",
        "\n",
        "\n",
        "\n",
        "\n",
        "# print(X1_test.shape)"
      ],
      "execution_count": 0,
      "outputs": []
    },
    {
      "metadata": {
        "id": "sRz5yBstgZCN",
        "colab_type": "code",
        "colab": {}
      },
      "cell_type": "code",
      "source": [
        "#### load all train files\n",
        "def loadFiles(filepattern):\n",
        "  \n",
        "  spectrogramList = []\n",
        "  RawAmpVsTimeList = []\n",
        "  spectrogram_Mag_List = []\n",
        "#   print(dirpath+filepattern)\n",
        "  print(glob.glob(dirpath+filepattern))\n",
        "\n",
        "  for file in sorted(glob.glob(dirpath+filepattern)):\n",
        "    \n",
        "    RawAmpVsTime,spectrogram,spectrogram_Mag = gen_STFTnMagnitude(file)\n",
        "\n",
        "    RawAmpVsTimeList.append(RawAmpVsTime)\n",
        "    spectrogramList.append(spectrogram)\n",
        "    spectrogram_Mag_List.append(spectrogram_Mag)\n",
        "\n",
        "  dictOfLists = {'RawAmpVsTimeList':RawAmpVsTimeList, \n",
        "                      'spectrogramList': spectrogramList, \n",
        "                      'spectrogram_MagList': spectrogram_Mag_List}\n",
        "  return dictOfLists\n",
        "\n",
        "\n",
        "\n",
        "# dictOfTrainXFiles = loadFiles('/tr/trx*')\n",
        "# dictOfTrainYFiles = loadFiles('/tr/trs*')\n",
        "# dictOfTrainNoiseFiles = loadFiles('/tr/trn*')\n",
        "\n",
        "# dictOfValidationXFiles = loadFiles('/v/vx*')\n",
        "# dictOfValidationYFiles = loadFiles('/v/vs*')\n",
        "# dictOfValidationNoiseFiles = loadFiles('/v/vn*')\n",
        "\n",
        "# dictOfTestXFiles = loadFiles('/te/tex*')\n",
        "\n",
        "\n",
        "\n"
      ],
      "execution_count": 0,
      "outputs": []
    },
    {
      "metadata": {
        "id": "2QVr1Q7llbE9",
        "colab_type": "code",
        "colab": {}
      },
      "cell_type": "code",
      "source": [
        "\n",
        "###dumping pickle objects\n",
        "# import pickle\n",
        "# with open(dirpath+'/dictOfTrainXFiles.pkl', 'wb') as f:\n",
        "#   pickle.dump(dictOfTrainXFiles, f)\n",
        "  \n",
        "# with open(dirpath+'/dictOfTrainYFiles.pkl', 'wb') as f:\n",
        "#   pickle.dump(dictOfTrainYFiles, f)\n",
        "\n",
        "# with open(dirpath+'/dictOfTrainNoiseFiles.pkl', 'wb') as f:\n",
        "#   pickle.dump(dictOfTrainNoiseFiles, f)\n",
        "  \n",
        "# with open(dirpath+'/dictOfValidationXFiles.pkl', 'wb') as f:\n",
        "#   pickle.dump(dictOfValidationXFiles, f)\n",
        "  \n",
        "# with open(dirpath+'/dictOfValidationYFiles.pkl', 'wb') as f:\n",
        "#   pickle.dump(dictOfValidationYFiles, f)\n",
        "\n",
        "# with open(dirpath+'/dictOfValidationNoiseFiles.pkl', 'wb') as f:\n",
        "#   pickle.dump(dictOfValidationNoiseFiles, f)\n",
        "\n",
        "# with open(dirpath+'/dictOfTestXFiles.pkl', 'wb') as f:\n",
        "#   pickle.dump(dictOfTestXFiles, f)\n"
      ],
      "execution_count": 0,
      "outputs": []
    },
    {
      "metadata": {
        "id": "RsrTOejVUJeW",
        "colab_type": "code",
        "colab": {}
      },
      "cell_type": "code",
      "source": [
        "\n",
        "##getting pickled files\n",
        "import pickle\n",
        "with open(dirpath+'/dictOfTrainXFiles.pkl', 'rb') as f:\n",
        "  dictOfTrainXFiles = pickle.load(f)\n",
        "  \n",
        "with open(dirpath+'/dictOfTrainYFiles.pkl', 'rb') as f:\n",
        "  dictOfTrainYFiles = pickle.load(f)\n",
        "\n",
        "with open(dirpath+'/dictOfTrainNoiseFiles.pkl', 'rb') as f:\n",
        "  dictOfTrainNoiseFiles = pickle.load(f)\n",
        "  \n",
        "with open(dirpath+'/dictOfValidationXFiles.pkl', 'rb') as f:\n",
        "  dictOfValidationXFiles = pickle.load(f)\n",
        "  \n",
        "with open(dirpath+'/dictOfValidationYFiles.pkl', 'rb') as f:\n",
        "  dictOfValidationYFiles = pickle.load(f)\n",
        "\n",
        "with open(dirpath+'/dictOfValidationNoiseFiles.pkl', 'rb') as f:\n",
        "  dictOfValidationNoiseFiles = pickle.load(f)\n",
        "\n",
        "with open(dirpath+'/dictOfTestXFiles.pkl', 'rb') as f:\n",
        "  dictOfTestXFiles = pickle.load(f)"
      ],
      "execution_count": 0,
      "outputs": []
    },
    {
      "metadata": {
        "id": "TtXU1ZlJOdfF",
        "colab_type": "code",
        "colab": {}
      },
      "cell_type": "code",
      "source": [
        "##masked output\n",
        "def maskOutput(SignalList,NoiseList):\n",
        "  Mask = []\n",
        "  for i in range(len(SignalList)):\n",
        "    \n",
        "    Mask.append(np.greater(SignalList[i],NoiseList[i])*1)\n",
        "  \n",
        "  return Mask\n",
        "    \n"
      ],
      "execution_count": 0,
      "outputs": []
    },
    {
      "metadata": {
        "id": "2G3KGVkBlt5Z",
        "colab_type": "text"
      },
      "cell_type": "markdown",
      "source": [
        "#### Fully connected and RNN Layer structure"
      ]
    },
    {
      "metadata": {
        "id": "tgFCqlhFz8d_",
        "colab_type": "code",
        "colab": {}
      },
      "cell_type": "code",
      "source": [
        "# Parameters\n",
        "learning_rate = 0.001\n",
        "\n",
        "\n",
        "# Network Parameters\n",
        "RNNStructure = [513,513] ### 513  neuron layer stacked with another 513 neuron layer\n",
        "FullyConnectedStructure = [256] ### One with 513 output with sigmoid activation.\n"
      ],
      "execution_count": 0,
      "outputs": []
    },
    {
      "metadata": {
        "id": "Wg7jXOpv0rly",
        "colab_type": "code",
        "colab": {}
      },
      "cell_type": "code",
      "source": [
        "# (numExamples,xDim) = XSpectrogramMag.shape\n",
        "# (numExamples,yDim) = YSpectrogramMag.shape\n",
        "xDim = 513\n",
        "yDim = 513\n",
        "X = tf.placeholder(\"float\", [None,None, xDim])\n",
        "Y = tf.placeholder(\"float\", [None,None, yDim])\n",
        "# SeqLen = tf.placeholder(tf.int32, [None])\n",
        "\n",
        "timeSteps = tf.placeholder(tf.int32)\n",
        "RNNDropout_keepProb = tf.placeholder(tf.float32)"
      ],
      "execution_count": 0,
      "outputs": []
    },
    {
      "metadata": {
        "id": "NuaPRIzJxiKg",
        "colab_type": "code",
        "colab": {}
      },
      "cell_type": "code",
      "source": [
        "def defineWeightsAndBias(FullyConnectedStructure,xDim, yDim):\n",
        "  \n",
        "  ## he initialiisation\n",
        "  initialiser = tf.contrib.layers.variance_scaling_initializer()\n",
        "  \n",
        "  weights = [tf.Variable(initialiser([j,k],dtype=tf.float32)) \\\n",
        "             for (j,k) in zip([xDim]+FullyConnectedStructure,FullyConnectedStructure+[yDim])]\n",
        "  \n",
        "  \n",
        "  biases = [tf.Variable(initialiser([j],dtype=tf.float32))\n",
        "           for j in FullyConnectedStructure+[yDim]]\n",
        "\n",
        "  return weights, biases"
      ],
      "execution_count": 0,
      "outputs": []
    },
    {
      "metadata": {
        "id": "GJ2COcFnlhTK",
        "colab_type": "text"
      },
      "cell_type": "markdown",
      "source": [
        "#### defining the RNN Layer strucuure"
      ]
    },
    {
      "metadata": {
        "id": "k8kVmfX61lVc",
        "colab_type": "code",
        "colab": {}
      },
      "cell_type": "code",
      "source": [
        "##function to stack LSTMCells\n",
        "\n",
        "def stackLSTMCells(RNNStructure):\n",
        "  initialiser = tf.keras.initializers.he_normal(seed=None)\n",
        "  LSTMStack = []\n",
        "  for numUnits in RNNStructure: \n",
        "\n",
        "    LSTMStack.append(tf.keras.layers.LSTMCell(units = numUnits,\n",
        "                                             kernel_initializer = initialiser,\n",
        "                                             recurrent_initializer = initialiser\n",
        "                                             ))\n",
        "  \n",
        "  return tf.keras.layers.StackedRNNCells(LSTMStack)\n",
        "\n",
        "\n",
        "\n",
        "StackedCell = stackLSTMCells(RNNStructure)\n",
        "\n",
        "\n"
      ],
      "execution_count": 0,
      "outputs": []
    },
    {
      "metadata": {
        "id": "AuttXOJGkDwC",
        "colab_type": "code",
        "colab": {}
      },
      "cell_type": "code",
      "source": [
        "# def getNetworkOutput(xInp,StackedCell,weights,biases,timeSteps):\n",
        "  \n",
        "# #     xInp = tf.reshape(xInp, shape=[-1, maxSeqLen , xDim])\n",
        "    \n",
        "  \n",
        "# #     batchSize,timeSteps,XDimension = xInp.eval().shape\n",
        "    \n",
        "#     ### All RNN Outputs\n",
        "#     outputsAtEachTimestamp ,FinalStates = tf.nn.dynamic_rnn(StackedCell,xInp,dtype = tf.float32,swap_memory = True)\n",
        "    \n",
        "    \n",
        "    \n",
        "    \n",
        "#     fullyConnectedTransition = tf.reshape(outputsAtEachTimestamp, shape=[-1,outputsAtEachTimestamp.get_shape()[2]])\n",
        "    \n",
        "    \n",
        "#     ###fully connected outputs\n",
        "#     totalLayers = FullyConnectedStructure+[yDim]\n",
        "    \n",
        "#     lastLayerPosition = len(totalLayers)-1\n",
        "    \n",
        "#     for layerPosition,(weight,bias) in enumerate(zip(weights,biases)):\n",
        "      \n",
        "# #       tf.print(layerPosition)\n",
        "#       if layerPosition == 0:\n",
        "      \n",
        "#         output = tf.nn.relu(tf.add(tf.matmul(fullyConnectedTransition, weight), bias))\n",
        "         \n",
        "\n",
        "\n",
        "#       elif layerPosition <= lastLayerPosition-1:\n",
        "      \n",
        "#         output = tf.nn.relu(tf.add(tf.matmul(output, weight), bias))\n",
        "        \n",
        "      \n",
        "#       else:\n",
        "        \n",
        "#         ## change activations as required \n",
        "        \n",
        "#         output = tf.nn.relu(tf.nn.sigmoid(tf.add(tf.matmul(output, weight), bias)))\n",
        "        \n",
        "#     lastOutput = output\n",
        "    \n",
        "#     ####reshaping to [batch size, num time stamps at RNN output, output shapes columns\n",
        "#     reshapedOutput = tf.reshape(lastOutput,shape = [-1,timeSteps,lastOutput.get_shape()[1]])\n",
        "    \n",
        "#     return reshapedOutput\n",
        "\n",
        "\n",
        "    "
      ],
      "execution_count": 0,
      "outputs": []
    },
    {
      "metadata": {
        "id": "H8nnOwSyieXj",
        "colab_type": "code",
        "outputId": "a31eacfb-843b-4959-df5e-18449fcae6bd",
        "colab": {
          "base_uri": "https://localhost:8080/",
          "height": 35
        }
      },
      "cell_type": "code",
      "source": [
        "tf.nn.rnn_cell.DropoutWrapper"
      ],
      "execution_count": 0,
      "outputs": [
        {
          "output_type": "execute_result",
          "data": {
            "text/plain": [
              "tensorflow.python.ops.rnn_cell_impl.DropoutWrapper"
            ]
          },
          "metadata": {
            "tags": []
          },
          "execution_count": 68
        }
      ]
    },
    {
      "metadata": {
        "id": "-Pm4G-CHlaL1",
        "colab_type": "text"
      },
      "cell_type": "markdown",
      "source": [
        "#### get networkoutput\n",
        "\n",
        "\n",
        "1.   Using signmoid activation fully connected layer to make the values within 0 and 1\n",
        "2.   \n",
        "\n"
      ]
    },
    {
      "metadata": {
        "id": "id1CzdLgPolf",
        "colab_type": "code",
        "colab": {}
      },
      "cell_type": "code",
      "source": [
        "###get network output\n",
        "def getNetworkOutput(xInp,StackedCell,FullyConnectedStructure,timeSteps):\n",
        "  \n",
        "#     xInp = tf.reshape(xInp, shape=[-1, maxSeqLen , xDim])\n",
        "    \n",
        "    ### All RNN Outputs\n",
        "    outputsAtEachTimestamp ,FinalStates = tf.nn.dynamic_rnn(StackedCell,xInp,dtype = tf.float32,swap_memory = True)\n",
        "    \n",
        "    totalLayers = FullyConnectedStructure+[yDim]\n",
        "    \n",
        "    \n",
        "    lastLayerPosition = len(totalLayers)-1\n",
        "    \n",
        "    for layerPosition,numUnits in enumerate(totalLayers):\n",
        "#       \n",
        "#       tf.print(layerPosition)\n",
        "      if layerPosition == 0:\n",
        "      \n",
        "        output =  tf.contrib.layers.fully_connected(outputsAtEachTimestamp, numUnits, activation_fn=tf.nn.relu)\n",
        "    \n",
        "        \n",
        "      elif layerPosition <= lastLayerPosition-1:\n",
        "      \n",
        "        output =  tf.contrib.layers.fully_connected(output, numUnits, activation_fn=tf.nn.relu)\n",
        "        \n",
        "      \n",
        "      else:\n",
        "        ###change activation if needed\n",
        "        output =  tf.contrib.layers.fully_connected(output, numUnits, activation_fn=tf.nn.sigmoid)\n",
        "        \n",
        "      \n",
        "    \n",
        "    return output"
      ],
      "execution_count": 0,
      "outputs": []
    },
    {
      "metadata": {
        "id": "j2tA7Y6lVq9d",
        "colab_type": "text"
      },
      "cell_type": "markdown",
      "source": [
        "### Accuracy and utility functions"
      ]
    },
    {
      "metadata": {
        "id": "C7pqoVySk850",
        "colab_type": "code",
        "colab": {}
      },
      "cell_type": "code",
      "source": [
        "## accuracy metirc \n",
        "def RSquared(yAct, yPred):\n",
        "\n",
        "    residual = tf.reduce_sum(tf.square(tf.subtract(yAct, yPred)))\n",
        "    total = tf.reduce_sum(tf.square(tf.subtract(yAct, tf.reduce_mean(yAct))))\n",
        "    r2 = tf.subtract(1.0, tf.math.divide(residual, total))\n",
        "    return r2\n",
        "  \n",
        "  \n",
        "## convert out put to time domian\n",
        "def getOutputSound(xComplex,YPredMask):\n",
        "    \n",
        "    YPredComplex = YPredMask* xComplex\n",
        "    S_Hat = librosa.istft(YPredComplex.T, hop_length=512)\n",
        "\n",
        "    return S_Hat\n",
        "  \n",
        "## signal ton noise ration\n",
        "def getSNR(yRawInpTimeDomain,yPredReadyToWrite):\n",
        "    minLength = min(len(yRawInpTimeDomain),len(yPredReadyToWrite))\n",
        "    clippedY_True = yRawInpTimeDomain[:minLength]\n",
        "    clippedY_Pred = yPredReadyToWrite[:minLength]\n",
        "    signal  = np.dot(clippedY_True,clippedY_True.T)\n",
        "    subtract = clippedY_True - clippedY_Pred\n",
        "    noise = np.dot(subtract,subtract.T)\n",
        "    \n",
        "    return 10*math.log10(signal/noise)"
      ],
      "execution_count": 0,
      "outputs": []
    },
    {
      "metadata": {
        "id": "fPDg0Y4PVwHX",
        "colab_type": "text"
      },
      "cell_type": "markdown",
      "source": [
        "#### Setting up training "
      ]
    },
    {
      "metadata": {
        "id": "6rduSY_uk1Lp",
        "colab_type": "code",
        "colab": {}
      },
      "cell_type": "code",
      "source": [
        "## required training\n",
        "weights,biases = defineWeightsAndBias(FullyConnectedStructure,RNNStructure[-1], yDim)\n",
        "\n",
        "# LastOutput = getNetworkOutput(X,StackedCell,weights,biases,timeSteps) ##when using weights from scratch\n",
        "\n",
        "LastOutput = getNetworkOutput(X,StackedCell,FullyConnectedStructure,timeSteps) ##using fully connected\n",
        "\n",
        "\n",
        "\n",
        "# binarisedOutput = tf.cast(tf.math.greater(LastOutput,0.5), tf.float32)\n",
        "\n",
        "lossCalcu  = tf.losses.mean_squared_error(labels = Y ,predictions = LastOutput)\n",
        "\n",
        "\n",
        "\n",
        "gradOptimizer = tf.train.AdamOptimizer(learning_rate=learning_rate)\n",
        "\n",
        "train = gradOptimizer.minimize(lossCalcu)\n",
        "accuracy = RSquared(LastOutput,Y)\n",
        "\n",
        "initialise = tf.global_variables_initializer()"
      ],
      "execution_count": 0,
      "outputs": []
    },
    {
      "metadata": {
        "id": "f74VxsCGV3Kn",
        "colab_type": "text"
      },
      "cell_type": "markdown",
      "source": [
        "#### Running the training procedure for the masked matrix"
      ]
    },
    {
      "metadata": {
        "id": "eHpGoFdnaUjh",
        "colab_type": "code",
        "outputId": "3d65c5b6-853a-4290-9c11-4dd3c9ddb77e",
        "colab": {
          "base_uri": "https://localhost:8080/",
          "height": 1795
        }
      },
      "cell_type": "code",
      "source": [
        "sess = tf.InteractiveSession()\n",
        "sess.run(initialise)\n",
        "\n",
        "\n",
        "batchSize = 10\n",
        "xTrain = dictOfTrainXFiles['spectrogram_MagList']\n",
        "yTrain = dictOfTrainYFiles['spectrogram_MagList']\n",
        "\n",
        "\n",
        "#### sending the masked output to be predicted\n",
        "yTrainMask = maskOutput(dictOfTrainYFiles['spectrogram_MagList'],dictOfTrainNoiseFiles['spectrogram_MagList'])\n",
        "\n",
        "\n",
        "for epoch in range(100):\n",
        "  loss = []\n",
        "  for offset in range(0, len(xTrain), batchSize):\n",
        "\n",
        "    xBatch, yBatch = xTrain[offset: offset + batchSize], yTrainMask[offset: offset + batchSize]\n",
        "    xBatch,yBatch = np.asarray(xBatch),np.asarray(yBatch)\n",
        "\n",
        "    timeStepsInp = xBatch.shape[1]\n",
        "\n",
        "\n",
        "    sess.run(train,feed_dict ={X: xBatch,Y:yBatch,timeSteps:timeStepsInp })\n",
        "\n",
        "    loss += sess.run([lossCalcu], feed_dict={X: xBatch,Y:yBatch,timeSteps:timeStepsInp })  \n",
        "    accu = sess.run([accuracy], feed_dict={X: xBatch,Y:yBatch,timeSteps:timeStepsInp })  \n",
        "\n",
        "  print(\"Step \" + str(epoch) + \", Loss= \" + str(sum(loss)))\n",
        "   "
      ],
      "execution_count": 0,
      "outputs": [
        {
          "output_type": "stream",
          "text": [
            "Step 0, Loss= 25.952566266059875\n",
            "Step 1, Loss= 23.275237500667572\n",
            "Step 2, Loss= 21.309214025735855\n",
            "Step 3, Loss= 19.93934778124094\n",
            "Step 4, Loss= 18.93706575036049\n",
            "Step 5, Loss= 18.113140426576138\n",
            "Step 6, Loss= 17.530488573014736\n",
            "Step 7, Loss= 17.072978727519512\n",
            "Step 8, Loss= 16.74184276163578\n",
            "Step 9, Loss= 16.33382372558117\n",
            "Step 10, Loss= 16.03102607280016\n",
            "Step 11, Loss= 15.816570177674294\n",
            "Step 12, Loss= 15.606595799326897\n",
            "Step 13, Loss= 15.348513886332512\n",
            "Step 14, Loss= 15.028679125010967\n",
            "Step 15, Loss= 14.774195246398449\n",
            "Step 16, Loss= 14.601656384766102\n",
            "Step 17, Loss= 14.447687648236752\n",
            "Step 18, Loss= 14.253745377063751\n",
            "Step 19, Loss= 14.181285917758942\n",
            "Step 20, Loss= 13.970951549708843\n",
            "Step 21, Loss= 13.785245977342129\n",
            "Step 22, Loss= 13.618130400776863\n",
            "Step 23, Loss= 13.50430104136467\n",
            "Step 24, Loss= 13.38966752588749\n",
            "Step 25, Loss= 13.215715110301971\n",
            "Step 26, Loss= 13.074794262647629\n",
            "Step 27, Loss= 12.985216781497002\n",
            "Step 28, Loss= 12.881625354290009\n",
            "Step 29, Loss= 12.827542327344418\n",
            "Step 30, Loss= 12.71425624191761\n",
            "Step 31, Loss= 12.57815208286047\n",
            "Step 32, Loss= 12.47612164914608\n",
            "Step 33, Loss= 12.363414496183395\n",
            "Step 34, Loss= 12.255651868879795\n",
            "Step 35, Loss= 12.171343140304089\n",
            "Step 36, Loss= 12.056241415441036\n",
            "Step 37, Loss= 11.987977400422096\n",
            "Step 38, Loss= 11.891709193587303\n",
            "Step 39, Loss= 11.829838663339615\n",
            "Step 40, Loss= 11.711967773735523\n",
            "Step 41, Loss= 11.667709439992905\n",
            "Step 42, Loss= 11.593685992062092\n",
            "Step 43, Loss= 11.477169811725616\n",
            "Step 44, Loss= 11.354222744703293\n",
            "Step 45, Loss= 11.255992107093334\n",
            "Step 46, Loss= 11.184027180075645\n",
            "Step 47, Loss= 11.318895868957043\n",
            "Step 48, Loss= 11.19404635578394\n",
            "Step 49, Loss= 11.082756958901882\n",
            "Step 50, Loss= 11.063537120819092\n",
            "Step 51, Loss= 10.986306175589561\n",
            "Step 52, Loss= 10.89401077479124\n",
            "Step 53, Loss= 10.834151200950146\n",
            "Step 54, Loss= 10.745261073112488\n",
            "Step 55, Loss= 10.683168515563011\n",
            "Step 56, Loss= 10.640008985996246\n",
            "Step 57, Loss= 10.59948455542326\n",
            "Step 58, Loss= 10.572529010474682\n",
            "Step 59, Loss= 10.572604663670063\n",
            "Step 60, Loss= 10.571111015975475\n",
            "Step 61, Loss= 10.52481858432293\n",
            "Step 62, Loss= 10.45545606315136\n",
            "Step 63, Loss= 10.377283439040184\n",
            "Step 64, Loss= 10.293422386050224\n",
            "Step 65, Loss= 10.230290718376637\n",
            "Step 66, Loss= 10.188600853085518\n",
            "Step 67, Loss= 10.142262510955334\n",
            "Step 68, Loss= 10.125790551304817\n",
            "Step 69, Loss= 10.122641898691654\n",
            "Step 70, Loss= 10.100601986050606\n",
            "Step 71, Loss= 10.140232190489769\n",
            "Step 72, Loss= 10.097821779549122\n",
            "Step 73, Loss= 10.069028571248055\n",
            "Step 74, Loss= 10.047785349190235\n",
            "Step 75, Loss= 10.038437396287918\n",
            "Step 76, Loss= 10.01523931324482\n",
            "Step 77, Loss= 9.97378570586443\n",
            "Step 78, Loss= 9.959022276103497\n",
            "Step 79, Loss= 9.91536296159029\n",
            "Step 80, Loss= 9.877092875540257\n",
            "Step 81, Loss= 9.819219827651978\n",
            "Step 82, Loss= 9.766537249088287\n",
            "Step 83, Loss= 9.709361396729946\n",
            "Step 84, Loss= 9.676236793398857\n",
            "Step 85, Loss= 9.633629612624645\n",
            "Step 86, Loss= 9.61488139629364\n",
            "Step 87, Loss= 9.609986200928688\n",
            "Step 88, Loss= 9.599181730300188\n",
            "Step 89, Loss= 9.589954536408186\n",
            "Step 90, Loss= 9.591028459370136\n",
            "Step 91, Loss= 9.587755367159843\n",
            "Step 92, Loss= 9.568169854581356\n",
            "Step 93, Loss= 9.564272370189428\n",
            "Step 94, Loss= 9.512465734034777\n",
            "Step 95, Loss= 9.485839698463678\n",
            "Step 96, Loss= 9.453982505947351\n",
            "Step 97, Loss= 9.41726241260767\n",
            "Step 98, Loss= 9.40813173726201\n",
            "Step 99, Loss= 9.396582745015621\n"
          ],
          "name": "stdout"
        }
      ]
    },
    {
      "metadata": {
        "id": "J2HNDfsz9R7a",
        "colab_type": "code",
        "outputId": "d08ee757-4324-4869-fd7f-3a378cd67845",
        "colab": {
          "base_uri": "https://localhost:8080/",
          "height": 35
        }
      },
      "cell_type": "code",
      "source": [
        "\n",
        "\n",
        "## save and restore trained model\n",
        "saver = tf.train.Saver()\n",
        "saver.save(sess, dirpath+\"/HW3Problem2Model.ckpt\")\n",
        "\n"
      ],
      "execution_count": 0,
      "outputs": [
        {
          "output_type": "execute_result",
          "data": {
            "text/plain": [
              "'Drive/My Drive/Deeplearning Assignment/timit-homework/HW3Problem2Model.ckpt'"
            ]
          },
          "metadata": {
            "tags": []
          },
          "execution_count": 73
        }
      ]
    },
    {
      "metadata": {
        "id": "V3Rifid_-P3G",
        "colab_type": "code",
        "colab": {}
      },
      "cell_type": "code",
      "source": [
        "# sess = tf.InteractiveSession()\n",
        "# new_saver = tf.train.import_meta_graph(dirpath+'/HW3Problem2Model.ckpt.meta')\n",
        "# new_saver.restore(sess, tf.train.latest_checkpoint(dirpath+'/checkpoint'))\n",
        "# # saver.restore(sess, dirpath+\"/HW3Problem2Model.ckpt\")"
      ],
      "execution_count": 0,
      "outputs": []
    },
    {
      "metadata": {
        "id": "e6Xtn6Db2DhJ",
        "colab_type": "code",
        "colab": {}
      },
      "cell_type": "code",
      "source": [
        "\n",
        "#### validation\n",
        "SNR = []\n",
        "for xComplex,xMag,yActAmpVsTime in zip(dictOfValidationXFiles['spectrogramList'],dictOfValidationXFiles['spectrogram_MagList'],dictOfValidationYFiles['RawAmpVsTimeList']):\n",
        "  \n",
        "  timeStepsInp = 200\n",
        "  xMag= np.array([xMag,])\n",
        "  YPredMask = sess.run(LastOutput,feed_dict ={X: xMag, timeSteps:timeStepsInp })\n",
        "\n",
        "  yPredReadyToWrite = getOutputSound(xComplex,YPredMask)\n",
        "\n",
        "  SNR.append(getSNR(yActAmpVsTime,yPredReadyToWrite))"
      ],
      "execution_count": 0,
      "outputs": []
    },
    {
      "metadata": {
        "id": "00IdHr-kU3SW",
        "colab_type": "text"
      },
      "cell_type": "markdown",
      "source": [
        "#### Validation SNR distribution"
      ]
    },
    {
      "metadata": {
        "id": "6K_Tqs8_tOAN",
        "colab_type": "code",
        "outputId": "671f9234-fb5e-4e89-98c9-ff90a8a473fd",
        "colab": {
          "base_uri": "https://localhost:8080/",
          "height": 364
        }
      },
      "cell_type": "code",
      "source": [
        "sns.distplot(SNR)\n"
      ],
      "execution_count": 0,
      "outputs": [
        {
          "output_type": "execute_result",
          "data": {
            "text/plain": [
              "<matplotlib.axes._subplots.AxesSubplot at 0x7fc7a242d8d0>"
            ]
          },
          "metadata": {
            "tags": []
          },
          "execution_count": 76
        },
        {
          "output_type": "display_data",
          "data": {
            "image/png": "[encoded data removed]",
            "text/plain": [
              "<Figure size 576x396 with 1 Axes>"
            ]
          },
          "metadata": {
            "tags": []
          }
        }
      ]
    },
    {
      "metadata": {
        "id": "OOHhpYFvOh34",
        "colab_type": "code",
        "colab": {}
      },
      "cell_type": "code",
      "source": [
        "\n",
        "ReplacePath = 'Drive/My Drive/Deeplearning Assignment/timit-homework/te/'\n",
        "\n",
        "fileNameList = [filelist.replace(ReplacePath,'') for filelist in sorted(glob.glob(dirpath+'/te/tex*'))]\n",
        "OutputDirPath = 'Drive/My Drive/Deeplearning Assignment/timit-homework/Predictions on Test/'\n"
      ],
      "execution_count": 0,
      "outputs": []
    },
    {
      "metadata": {
        "id": "Rj6lJ93WnhyP",
        "colab_type": "code",
        "colab": {}
      },
      "cell_type": "code",
      "source": [
        "# ### create test files\n",
        "\n",
        "\n",
        "# for xComplex,xMag,filename in zip(dictOfTestXFiles['spectrogramList'],\n",
        "#                                        dictOfTestXFiles['spectrogram_MagList'],\n",
        "#                                         fileNameList):\n",
        "\n",
        "#   timeStepsInp = 200\n",
        "  \n",
        "#   xMag= np.array([xMag,])\n",
        "#   YPredMask = sess.run(LastOutput,feed_dict ={X: xMag, timeSteps:timeStepsInp })\n",
        "\n",
        "#   yPredReadyToWrite = getOutputSound(xComplex,YPredMask)\n",
        "\n",
        "# #   SNR.append(getSNR(yActAmpVsTime,yPredReadyToWrite))\n",
        "# #   print(filename)\n",
        "#   librosa.output.write_wav(OutputDirPath+'Cleaned_'+filename, yPredReadyToWrite, sr = 16000)"
      ],
      "execution_count": 0,
      "outputs": []
    }
  ]
}